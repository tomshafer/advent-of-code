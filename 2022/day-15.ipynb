{
 "cells": [
  {
   "cell_type": "raw",
   "metadata": {},
   "source": [
    "---\n",
    "title: \"Advent of Code, Day 15\"\n",
    "format: html\n",
    "---"
   ]
  },
  {
   "cell_type": "code",
   "execution_count": null,
   "metadata": {},
   "outputs": [],
   "source": [
    "import re\n",
    "import numpy as np\n",
    "import logging\n",
    "\n",
    "logging.basicConfig(level=\"INFO\")\n",
    "log = logging.getLogger().info"
   ]
  },
  {
   "cell_type": "code",
   "execution_count": null,
   "metadata": {},
   "outputs": [],
   "source": [
    "logging.getLogger().setLevel(\"WARN\")"
   ]
  },
  {
   "cell_type": "code",
   "execution_count": null,
   "metadata": {},
   "outputs": [],
   "source": [
    "coord = tuple[int, int]\n",
    "def read(path: str) -> list[tuple[coord, coord]]:\n",
    "    coords = []\n",
    "    with open(path) as f:\n",
    "        for line in f:\n",
    "            log(line.strip())\n",
    "            xs = list(map(int, re.findall(r\"x=([+-]?[0-9]+)\", line)))\n",
    "            ys = list(map(int, re.findall(r\"y=([+-]?[0-9]+)\", line)))\n",
    "            coords.append(((xs[0], ys[0]), (xs[1], ys[1])))\n",
    "    return coords\n"
   ]
  },
  {
   "cell_type": "code",
   "execution_count": null,
   "metadata": {},
   "outputs": [],
   "source": [
    "example = read(\"inputs/day-15-example.txt\")\n",
    "data = read(\"inputs/day-15.txt\")"
   ]
  },
  {
   "attachments": {},
   "cell_type": "markdown",
   "metadata": {},
   "source": [
    "## Part 1\n",
    "\n",
    "For a given $y_T$, how many locations are blocked?\n",
    "Do this by recursively merging intervals."
   ]
  },
  {
   "cell_type": "code",
   "execution_count": null,
   "metadata": {},
   "outputs": [],
   "source": [
    "def reduce_spans(s: list[coord]) -> list[coord]:\n",
    "    out = []\n",
    "\n",
    "    # L to R merge\n",
    "    l = s.pop(0)\n",
    "    for i in range(len(s)):\n",
    "        r = s.pop(0)\n",
    "\n",
    "        # Merge\n",
    "        if l[0] <= r[1] + 1 and l[1] >= r[0] - 1:\n",
    "            new = (min(l[0], r[0]), max(l[1], r[1]))\n",
    "            log(f\"yes: {l} {r} -> {new}\")\n",
    "            l = new\n",
    "        else:\n",
    "            log(f\"no: {l} {r}\")\n",
    "            out.append(l)\n",
    "            l = r\n",
    "    out.append(l)\n",
    "    return out\n"
   ]
  },
  {
   "cell_type": "code",
   "execution_count": null,
   "metadata": {},
   "outputs": [],
   "source": [
    "def part1(data, yt):\n",
    "    spans: dict[int, set[tuple[int, int]]] = {}\n",
    "    for (sx, sy), (bx, by) in data:\n",
    "        dist = abs(sx - bx) + abs(sy - by)\n",
    "        for dy in range(-dist, dist + 1):\n",
    "            y = sy + dy\n",
    "            if y != yt:\n",
    "                continue\n",
    "            if y not in spans:\n",
    "                spans[y] = set()\n",
    "            spans[y].update({(sx - (dist - abs(dy)), sx + (dist - abs(dy)))})\n",
    "    return spans\n"
   ]
  },
  {
   "cell_type": "code",
   "execution_count": null,
   "metadata": {},
   "outputs": [],
   "source": [
    "l, r = reduce_spans(sorted(part1(example, 10)[10])).pop()\n",
    "r - l"
   ]
  },
  {
   "cell_type": "code",
   "execution_count": null,
   "metadata": {},
   "outputs": [],
   "source": [
    "l, r = reduce_spans(sorted(part1(data, 2_000_000)[2_000_000])).pop()\n",
    "r - l"
   ]
  },
  {
   "attachments": {},
   "cell_type": "markdown",
   "metadata": {},
   "source": [
    "## Part 2\n",
    "\n",
    "Do the whole thing: Find a gap in the pattern."
   ]
  },
  {
   "cell_type": "code",
   "execution_count": null,
   "metadata": {},
   "outputs": [],
   "source": [
    "def part2(data, cmin, cmax):\n",
    "    spans: dict[int, set[tuple[int, int]]] = {}\n",
    "    for (sx, sy), (bx, by) in data:\n",
    "        dist = abs(sx - bx) + abs(sy - by)\n",
    "        log(f\"{(sx, sy)} ± {dist}\")\n",
    "        for dy in range(-dist, dist + 1):\n",
    "            y = sy + dy\n",
    "            if y < cmin or y > cmax:\n",
    "                continue\n",
    "            if y not in spans:\n",
    "                spans[y] = set()\n",
    "            ds = dist - abs(dy)\n",
    "            spans[y].update({(max(cmin, sx - ds), min(cmax, sx + ds))})\n",
    "    return spans\n"
   ]
  },
  {
   "cell_type": "code",
   "execution_count": null,
   "metadata": {},
   "outputs": [],
   "source": [
    "spans"
   ]
  },
  {
   "cell_type": "code",
   "execution_count": null,
   "metadata": {},
   "outputs": [],
   "source": [
    "spans = part2(example, 0, 20)\n",
    "for y in spans:\n",
    "    s = reduce_spans(sorted(spans[y]))\n",
    "    if len(s) > 1:\n",
    "        final_y = y\n",
    "        final_x = s[0][-1] + 1\n",
    "        break\n",
    "\n",
    "final_x, final_y, final_x * 4_000_000 + final_y\n"
   ]
  },
  {
   "cell_type": "code",
   "execution_count": null,
   "metadata": {},
   "outputs": [],
   "source": [
    "spans = part2(data, 0, 4_000_000)\n",
    "for y in spans:\n",
    "    s = reduce_spans(sorted(spans[y]))\n",
    "    if len(s) > 1:\n",
    "        final_y = y\n",
    "        final_x = s[0][-1] + 1\n",
    "        break\n",
    "\n",
    "final_x, final_y, final_x * 4_000_000 + final_y\n"
   ]
  },
  {
   "cell_type": "code",
   "execution_count": null,
   "metadata": {},
   "outputs": [],
   "source": []
  }
 ],
 "metadata": {
  "kernelspec": {
   "display_name": ".venv",
   "language": "python",
   "name": "python3"
  },
  "language_info": {
   "codemirror_mode": {
    "name": "ipython",
    "version": 3
   },
   "file_extension": ".py",
   "mimetype": "text/x-python",
   "name": "python",
   "nbconvert_exporter": "python",
   "pygments_lexer": "ipython3",
   "version": "3.11.0"
  },
  "vscode": {
   "interpreter": {
    "hash": "f333a04932960dc5cbc1d49fbcdcc51d2b6457f0d0213439f07f6d7ea3046ddb"
   }
  }
 },
 "nbformat": 4,
 "nbformat_minor": 2
}
