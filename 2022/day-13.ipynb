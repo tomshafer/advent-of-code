{
 "cells": [
  {
   "cell_type": "raw",
   "metadata": {},
   "source": [
    "---\n",
    "title: \"Advent of Code 2022, Day 13\"\n",
    "format: html\n",
    "---"
   ]
  },
  {
   "cell_type": "code",
   "execution_count": null,
   "metadata": {},
   "outputs": [],
   "source": [
    "from functools import cmp_to_key\n",
    "from math import prod\n",
    "from numpy import sign\n"
   ]
  },
  {
   "cell_type": "code",
   "execution_count": null,
   "metadata": {},
   "outputs": [],
   "source": [
    "with open(\"inputs/day-13.txt\") as f:\n",
    "    packets = []\n",
    "    for line in f:\n",
    "        if not line.strip():\n",
    "            continue\n",
    "        packets += [eval(line.strip())]"
   ]
  },
  {
   "attachments": {},
   "cell_type": "markdown",
   "metadata": {},
   "source": [
    "## Part 1"
   ]
  },
  {
   "cell_type": "code",
   "execution_count": null,
   "metadata": {},
   "outputs": [],
   "source": [
    "def compare(a, b):\n",
    "    if isinstance(a, int) and isinstance(b, int):\n",
    "        return sign(b - a)\n",
    "    if isinstance(a, int) and isinstance(b, list):\n",
    "        return compare([a], b)\n",
    "    if isinstance(a, list) and isinstance(b, int):\n",
    "        return compare(a, [b])\n",
    "    if isinstance(a, list) and isinstance(b, list):\n",
    "        imin = min(len(a), len(b))\n",
    "        v = 0\n",
    "        for i in range(imin):\n",
    "            v = compare(a[i], b[i])\n",
    "            if v != 0:\n",
    "                return v\n",
    "        if len(a) > len(b):\n",
    "            return -1\n",
    "        if len(b) > len(a):\n",
    "            return 1\n",
    "        return v\n"
   ]
  },
  {
   "cell_type": "code",
   "execution_count": null,
   "metadata": {},
   "outputs": [],
   "source": [
    "correct, which = 0, 0\n",
    "for i, left in enumerate(packets[::2]):\n",
    "    right = packets[2 * i + 1]\n",
    "    if compare(left, right) == 1:\n",
    "        correct += 1\n",
    "        which += i + 1\n",
    "\n",
    "correct, which\n"
   ]
  },
  {
   "attachments": {},
   "cell_type": "markdown",
   "metadata": {},
   "source": [
    "## Part 2"
   ]
  },
  {
   "cell_type": "code",
   "execution_count": null,
   "metadata": {},
   "outputs": [],
   "source": [
    "npackets = packets + [[[2]], [[6]]]\n",
    "npackets.sort(key=cmp_to_key(compare), reverse=True)\n",
    "prod([1 + i for i, x in enumerate(npackets) if x in ([[2]], [[6]])])"
   ]
  },
  {
   "cell_type": "code",
   "execution_count": null,
   "metadata": {},
   "outputs": [],
   "source": []
  }
 ],
 "metadata": {
  "kernelspec": {
   "display_name": ".venv",
   "language": "python",
   "name": "python3"
  },
  "language_info": {
   "codemirror_mode": {
    "name": "ipython",
    "version": 3
   },
   "file_extension": ".py",
   "mimetype": "text/x-python",
   "name": "python",
   "nbconvert_exporter": "python",
   "pygments_lexer": "ipython3",
   "version": "3.11.0"
  },
  "vscode": {
   "interpreter": {
    "hash": "f333a04932960dc5cbc1d49fbcdcc51d2b6457f0d0213439f07f6d7ea3046ddb"
   }
  }
 },
 "nbformat": 4,
 "nbformat_minor": 2
}
