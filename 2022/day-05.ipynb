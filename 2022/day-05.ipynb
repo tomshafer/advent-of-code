{
 "cells": [
  {
   "cell_type": "raw",
   "metadata": {},
   "source": [
    "---\n",
    "title: \"Advent of Code, Day 5\"\n",
    "format: html\n",
    "---"
   ]
  },
  {
   "cell_type": "code",
   "execution_count": null,
   "metadata": {},
   "outputs": [],
   "source": [
    "def read_input(file: str, rows: int, cols: int) -> list[list]:\n",
    "    grid, rules = [], []\n",
    "    with open(file) as f:\n",
    "        for i in range(rows):\n",
    "            grid += [f.readline().strip(\"\\n\")]\n",
    "        \n",
    "        grid = [\n",
    "            [r[1 + 4*i] for r in grid if r[1 + 4*i] != \" \"]\n",
    "            for i in range(cols)\n",
    "        ]\n",
    "        \n",
    "        f.readline()\n",
    "        f.readline()\n",
    "        \n",
    "        for line in f:\n",
    "            parts = line.strip().split()\n",
    "            rules += [[int(p) for p in parts[1::2]]]\n",
    "    \n",
    "    return grid, rules"
   ]
  },
  {
   "cell_type": "markdown",
   "metadata": {},
   "source": [
    "# Part 1\n",
    "\n",
    "Move crates one at a time."
   ]
  },
  {
   "cell_type": "code",
   "execution_count": null,
   "metadata": {},
   "outputs": [],
   "source": [
    "grid, rules = read_input(\"inputs/day-05.txt\", 8, 9)"
   ]
  },
  {
   "cell_type": "code",
   "execution_count": null,
   "metadata": {},
   "outputs": [],
   "source": [
    "for n, f, t in rules:\n",
    "    tmp = grid[f - 1][:n]\n",
    "    del grid[f - 1][:n]\n",
    "    grid[t - 1] = tmp[::-1] + grid[t - 1]\n",
    "\n",
    "\"\".join([g[0] for g in grid])"
   ]
  },
  {
   "cell_type": "markdown",
   "metadata": {},
   "source": [
    "# Part 2\n",
    "\n",
    "Move crates together."
   ]
  },
  {
   "cell_type": "code",
   "execution_count": null,
   "metadata": {},
   "outputs": [],
   "source": [
    "grid, rules = read_input(\"inputs/day-05.txt\", 8, 9)"
   ]
  },
  {
   "cell_type": "code",
   "execution_count": null,
   "metadata": {},
   "outputs": [],
   "source": [
    "for n, f, t in rules:\n",
    "    tmp = grid[f - 1][:n]\n",
    "    del grid[f - 1][:n]\n",
    "    grid[t - 1] = tmp + grid[t - 1]\n",
    "\n",
    "\"\".join([g[0] for g in grid])"
   ]
  },
  {
   "cell_type": "code",
   "execution_count": null,
   "metadata": {},
   "outputs": [],
   "source": []
  }
 ],
 "metadata": {
  "kernelspec": {
   "display_name": "Python 3.11.0 ('.venv': venv)",
   "language": "python",
   "name": "python3"
  },
  "language_info": {
   "codemirror_mode": {
    "name": "ipython",
    "version": 3
   },
   "file_extension": ".py",
   "mimetype": "text/x-python",
   "name": "python",
   "nbconvert_exporter": "python",
   "pygments_lexer": "ipython3",
   "version": "3.11.0"
  },
  "vscode": {
   "interpreter": {
    "hash": "f333a04932960dc5cbc1d49fbcdcc51d2b6457f0d0213439f07f6d7ea3046ddb"
   }
  }
 },
 "nbformat": 4,
 "nbformat_minor": 2
}
