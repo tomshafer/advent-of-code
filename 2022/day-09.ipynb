{
 "cells": [
  {
   "cell_type": "raw",
   "metadata": {},
   "source": [
    "---\n",
    "title: \"Untitled\"\n",
    "format: html\n",
    "---"
   ]
  },
  {
   "cell_type": "code",
   "execution_count": null,
   "metadata": {},
   "outputs": [],
   "source": [
    "import numpy as np"
   ]
  },
  {
   "cell_type": "code",
   "execution_count": null,
   "metadata": {},
   "outputs": [],
   "source": [
    "h, t = np.zeros(2, int), np.zeros(2, int)\n",
    "dirs = {\"U\": [0, 1], \"D\": [0, -1], \"L\": [-1, 0], \"R\": [1, 0]}\n",
    "dirs = {k: np.array(v) for k, v in dirs.items()}\n",
    "stops = set({(0,0)})\n",
    "with open(\"inputs/day-09.txt\") as f:\n",
    "    for line in f:\n",
    "        k, l = line.strip().split()\n",
    "        l = int(l)\n",
    "\n",
    "        for _ in range(l):\n",
    "            h += dirs[k]\n",
    "\n",
    "\n",
    "            # Move in one direction:\n",
    "            delta = h - t\n",
    "            # print(\"D\",delta)\n",
    "            if (np.abs(delta) <= 1).all():\n",
    "                delta[:]=0\n",
    "            elif (delta == 0).sum() == 1:\n",
    "                # print(\"Y\", delta, np.where(np.abs(delta)>0,np.sign(delta)*1,0))\n",
    "                delta = np.where(np.abs(delta)>0,np.sign(delta)*1,0)\n",
    "            else:\n",
    "                # print(\"X\")\n",
    "                delta = np.sign(delta)\n",
    "            \n",
    "            # print(h, t, delta, t+delta)\n",
    "            t=t+delta\n",
    "            \n",
    "            #t += delta\n",
    "            # print(h, \"->\", t)\n",
    "            stops.update({tuple(t)})\n",
    "\n",
    "            #print(h, delta, t)\n",
    "        \n",
    "        \n"
   ]
  },
  {
   "cell_type": "code",
   "execution_count": null,
   "metadata": {},
   "outputs": [],
   "source": [
    "len(stops)"
   ]
  },
  {
   "cell_type": "code",
   "execution_count": null,
   "metadata": {},
   "outputs": [],
   "source": [
    "h,t"
   ]
  },
  {
   "cell_type": "code",
   "execution_count": null,
   "metadata": {},
   "outputs": [],
   "source": [
    "h, ts = np.zeros(2, int), np.zeros((9, 2), int)\n",
    "dirs = {\"U\": [0, 1], \"D\": [0, -1], \"L\": [-1, 0], \"R\": [1, 0]}\n",
    "dirs = {k: np.array(v) for k, v in dirs.items()}\n",
    "stops = set({(0,0)})\n",
    "\n",
    "with open(\"inputs/day-09.txt\") as f:\n",
    "    for line in f:\n",
    "        k, l = line.strip().split()\n",
    "        l = int(l)\n",
    "\n",
    "        for _ in range(l):\n",
    "            h += dirs[k]\n",
    "\n",
    "            for i in range(9):\n",
    "                ht=h if i==0 else ts[i-1,:]\n",
    "                tt = ts[i,:]\n",
    "                # print(ht,tt)\n",
    "\n",
    "                # Move in one direction:\n",
    "                delta = ht - tt\n",
    "                if (np.abs(delta) <= 1).all():\n",
    "                    delta[:]=0\n",
    "                elif (delta == 0).sum() == 1:\n",
    "                    # print(\"Y\", delta, np.where(np.abs(delta)>0,np.sign(delta)*1,0))\n",
    "                    delta = np.where(np.abs(delta)>0,np.sign(delta)*1,0)\n",
    "                else:\n",
    "                    # print(\"X\")\n",
    "                    delta = np.sign(delta)\n",
    "            \n",
    "                # print(h, t, delta, t+delta)\n",
    "                ts[i,:]=ts[i,:]+delta\n",
    "            \n",
    "                #t += delta\n",
    "                # print(h, \"->\", t)\n",
    "                if i == 8:\n",
    "                    stops.update({tuple(tt)})\n",
    "\n",
    "            # #print(h, delta, t)\n",
    "        \n",
    "        \n"
   ]
  },
  {
   "cell_type": "code",
   "execution_count": null,
   "metadata": {},
   "outputs": [],
   "source": [
    "len(stops)"
   ]
  },
  {
   "cell_type": "code",
   "execution_count": null,
   "metadata": {},
   "outputs": [],
   "source": []
  }
 ],
 "metadata": {
  "kernelspec": {
   "display_name": ".venv",
   "language": "python",
   "name": "python3"
  },
  "language_info": {
   "codemirror_mode": {
    "name": "ipython",
    "version": 3
   },
   "file_extension": ".py",
   "mimetype": "text/x-python",
   "name": "python",
   "nbconvert_exporter": "python",
   "pygments_lexer": "ipython3",
   "version": "3.11.0"
  },
  "vscode": {
   "interpreter": {
    "hash": "f333a04932960dc5cbc1d49fbcdcc51d2b6457f0d0213439f07f6d7ea3046ddb"
   }
  }
 },
 "nbformat": 4,
 "nbformat_minor": 2
}
