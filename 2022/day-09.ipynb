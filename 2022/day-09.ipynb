{
 "cells": [
  {
   "cell_type": "raw",
   "metadata": {},
   "source": [
    "---\n",
    "title: \"Untitled\"\n",
    "format: html\n",
    "---"
   ]
  },
  {
   "cell_type": "code",
   "execution_count": null,
   "metadata": {},
   "outputs": [],
   "source": [
    "import numpy as np"
   ]
  },
  {
   "cell_type": "code",
   "execution_count": null,
   "metadata": {},
   "outputs": [],
   "source": [
    "with open(\"inputs/day-09.txt\") as f:\n",
    "    inputs = [tuple(line.strip().split()) for line in f]"
   ]
  },
  {
   "cell_type": "code",
   "execution_count": null,
   "metadata": {},
   "outputs": [],
   "source": [
    "dirs = {\n",
    "    \"U\": np.array([0, 1]), \n",
    "    \"D\": np.array([0, -1]), \n",
    "    \"L\": np.array([-1, 0]), \n",
    "    \"R\": np.array([1, 0])\n",
    "}"
   ]
  },
  {
   "cell_type": "markdown",
   "metadata": {},
   "source": [
    "## Part 1\n",
    "\n",
    "How many unique places does the \"tail\" land?"
   ]
  },
  {
   "cell_type": "code",
   "execution_count": null,
   "metadata": {},
   "outputs": [],
   "source": [
    "def update_tail(head: np.ndarray, tail: np.ndarray) -> np.ndarray:\n",
    "    delta = head - tail\n",
    "    \n",
    "    # Tail is within one unit in each direction\n",
    "    if np.all(np.abs(delta) <= 1):\n",
    "        return tail\n",
    "\n",
    "    # In-line change\n",
    "    if (delta == 0).sum() == 1:\n",
    "        delta = np.where(np.abs(delta) > 0, np.sign(delta) * 1, 0)\n",
    "        return tail + delta\n",
    "\n",
    "    # All other changes\n",
    "    delta = np.sign(delta)\n",
    "    return tail + delta"
   ]
  },
  {
   "cell_type": "code",
   "execution_count": null,
   "metadata": {},
   "outputs": [],
   "source": [
    "h, t = np.zeros(2, int), np.zeros(2, int)\n",
    "stops = set({(0, 0)})\n",
    "for direction, distance in inputs:\n",
    "    for _ in range(int(distance)):\n",
    "        h += dirs[direction]\n",
    "        t = update_tail(h, t)\n",
    "        stops.update({tuple(t)})"
   ]
  },
  {
   "cell_type": "code",
   "execution_count": null,
   "metadata": {},
   "outputs": [],
   "source": [
    "len(stops)"
   ]
  },
  {
   "cell_type": "markdown",
   "metadata": {},
   "source": [
    "## Part 2\n",
    "\n",
    "What if the rope is longer?"
   ]
  },
  {
   "cell_type": "code",
   "execution_count": null,
   "metadata": {},
   "outputs": [],
   "source": [
    "h, ts = np.zeros(2, int), np.zeros((9, 2), int)\n",
    "stops = set({(0, 0)})\n",
    "\n",
    "for direction, distance in inputs:\n",
    "    for _ in range(int(distance)):\n",
    "        h += dirs[direction]\n",
    "        for i in range(9):\n",
    "            ht = h if i == 0 else ts[i - 1, :]\n",
    "            ts[i, :] = update_tail(ht, ts[i, :])\n",
    "        stops.update({tuple(ts[-1, :])})"
   ]
  },
  {
   "cell_type": "code",
   "execution_count": null,
   "metadata": {},
   "outputs": [],
   "source": [
    "len(stops)"
   ]
  },
  {
   "cell_type": "code",
   "execution_count": null,
   "metadata": {},
   "outputs": [],
   "source": []
  }
 ],
 "metadata": {
  "kernelspec": {
   "display_name": "Python 3.11.0 ('.venv': venv)",
   "language": "python",
   "name": "python3"
  },
  "language_info": {
   "codemirror_mode": {
    "name": "ipython",
    "version": 3
   },
   "file_extension": ".py",
   "mimetype": "text/x-python",
   "name": "python",
   "nbconvert_exporter": "python",
   "pygments_lexer": "ipython3",
   "version": "3.11.0"
  },
  "vscode": {
   "interpreter": {
    "hash": "0818a7caaa2d5541637c36eedeb57b44a068a1d810ac981743092cc7fa5b8982"
   }
  }
 },
 "nbformat": 4,
 "nbformat_minor": 2
}
