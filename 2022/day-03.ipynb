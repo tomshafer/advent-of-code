{
 "cells": [
  {
   "cell_type": "raw",
   "metadata": {},
   "source": [
    "---\n",
    "title: \"Advent of Code 2022, Day 3\"\n",
    "format: html\n",
    "---"
   ]
  },
  {
   "cell_type": "code",
   "execution_count": null,
   "metadata": {},
   "outputs": [],
   "source": [
    "def read_data(s: str) -> list[str]:\n",
    "    i = len(s) // 2\n",
    "    return s[:i], s[i:]\n",
    "\n",
    "\n",
    "with open(\"inputs/day-03.txt\") as f:\n",
    "    data = [read_data(line.strip()) for line in f]\n"
   ]
  },
  {
   "cell_type": "code",
   "execution_count": null,
   "metadata": {},
   "outputs": [],
   "source": [
    "priorities = {}\n",
    "for i in range(97, 97 + 26 + 1):\n",
    "    priorities[chr(i)] = i - 96\n",
    "    priorities[chr(i - 32)] = i - 96 + 26\n"
   ]
  },
  {
   "cell_type": "markdown",
   "metadata": {},
   "source": [
    "# Part 1"
   ]
  },
  {
   "cell_type": "code",
   "execution_count": null,
   "metadata": {},
   "outputs": [],
   "source": [
    "part1 = sum(priorities[set(l).intersection(r).pop()] for l, r in data)\n",
    "part1\n"
   ]
  },
  {
   "cell_type": "markdown",
   "metadata": {},
   "source": [
    "# Part 2"
   ]
  },
  {
   "cell_type": "code",
   "execution_count": null,
   "metadata": {},
   "outputs": [],
   "source": [
    "part2 = 0\n",
    "for i in range(0, len(data), 3):\n",
    "    a, b, c = [set(data[i][0]).union(data[i][1]) for i in range(i, i + 3)]\n",
    "    part2 += priorities[a.intersection(b).intersection(c).pop()]\n",
    "\n",
    "part2\n"
   ]
  },
  {
   "cell_type": "code",
   "execution_count": null,
   "metadata": {},
   "outputs": [],
   "source": []
  }
 ],
 "metadata": {
  "kernelspec": {
   "display_name": "Python 3.11.0 ('.venv': venv)",
   "language": "python",
   "name": "python3"
  },
  "language_info": {
   "codemirror_mode": {
    "name": "ipython",
    "version": 3
   },
   "file_extension": ".py",
   "mimetype": "text/x-python",
   "name": "python",
   "nbconvert_exporter": "python",
   "pygments_lexer": "ipython3",
   "version": "3.11.0"
  },
  "vscode": {
   "interpreter": {
    "hash": "f333a04932960dc5cbc1d49fbcdcc51d2b6457f0d0213439f07f6d7ea3046ddb"
   }
  }
 },
 "nbformat": 4,
 "nbformat_minor": 2
}
