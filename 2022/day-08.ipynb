{
 "cells": [
  {
   "cell_type": "raw",
   "metadata": {},
   "source": [
    "---\n",
    "title: \"Advent of Code, Day 8\"\n",
    "format: html\n",
    "---"
   ]
  },
  {
   "cell_type": "code",
   "execution_count": null,
   "metadata": {},
   "outputs": [],
   "source": [
    "import matplotlib.pyplot as plt\n",
    "import numpy as np"
   ]
  },
  {
   "cell_type": "code",
   "execution_count": null,
   "metadata": {},
   "outputs": [],
   "source": [
    "%matplotlib inline\n",
    "%config InlineBackend.figure_format = 'retina'\n",
    "plt.rcParams[\"figure.dpi\"] = 200"
   ]
  },
  {
   "cell_type": "code",
   "execution_count": null,
   "metadata": {},
   "outputs": [],
   "source": [
    "with open(\"inputs/day-08.txt\") as f:\n",
    "    a = np.array([[int(chr) for chr in line.strip()] for line in f])"
   ]
  },
  {
   "cell_type": "code",
   "execution_count": null,
   "metadata": {},
   "outputs": [],
   "source": [
    "fig, ax = plt.subplots()\n",
    "ax.imshow(a, \"viridis\")\n",
    "ax.set_xticks([])\n",
    "ax.set_yticks([])\n",
    "ax.set_aspect(\"equal\")\n",
    "pass"
   ]
  },
  {
   "attachments": {},
   "cell_type": "markdown",
   "metadata": {},
   "source": [
    "## Part 1\n",
    "\n",
    "How many trees are visible from the boundaries of the land?"
   ]
  },
  {
   "cell_type": "code",
   "execution_count": null,
   "metadata": {},
   "outputs": [],
   "source": [
    "def find_maxes(v: np.array) -> list[int]:\n",
    "    catches = []\n",
    "    limit = v.size\n",
    "    for x in range(9, -1, -1):\n",
    "        if limit < 1:\n",
    "            break\n",
    "        (i,) = np.where(v[:limit] == x)\n",
    "        if i.size == 0:\n",
    "            continue\n",
    "        i = i.min()\n",
    "        limit = i\n",
    "        catches += [i]\n",
    "    return catches"
   ]
  },
  {
   "cell_type": "code",
   "execution_count": null,
   "metadata": {},
   "outputs": [],
   "source": [
    "blocks = set()\n",
    "\n",
    "# Top/Bottom\n",
    "for col in range(a.shape[1]):\n",
    "    for row in find_maxes(a[:, col]):\n",
    "        blocks = blocks.union({(row, col)})\n",
    "    for row in find_maxes(a[::-1, col]):\n",
    "        blocks = blocks.union({(a.shape[1] - row - 1, col)})\n",
    "\n",
    "# Left/Right\n",
    "for row in range(a.shape[1]):\n",
    "    for col in find_maxes(a[row, :]):\n",
    "        blocks = blocks.union({(row, col)})\n",
    "    for col in find_maxes(a[row, ::-1]):\n",
    "        blocks = blocks.union({(row, a.shape[1] - col - 1)})"
   ]
  },
  {
   "cell_type": "code",
   "execution_count": null,
   "metadata": {},
   "outputs": [],
   "source": [
    "len(blocks)"
   ]
  },
  {
   "cell_type": "code",
   "execution_count": null,
   "metadata": {},
   "outputs": [],
   "source": [
    "fig, ax = plt.subplots()\n",
    "ax.imshow(a, \"viridis\")\n",
    "ax.scatter([x for _,x  in blocks],[x for x, _ in blocks], s=2, c=\"w\", marker=\"s\")\n",
    "ax.set_xticks([])\n",
    "ax.set_yticks([])\n",
    "ax.set_aspect(\"equal\")\n",
    "pass"
   ]
  },
  {
   "attachments": {},
   "cell_type": "markdown",
   "metadata": {},
   "source": [
    "## Part 2\n",
    "\n",
    "Which point has the optimal view?"
   ]
  },
  {
   "cell_type": "code",
   "execution_count": null,
   "metadata": {},
   "outputs": [],
   "source": [
    "b = np.zeros_like(a)\n",
    "\n",
    "for row in range(a.shape[1]):\n",
    "    for col in range(a.shape[1]):\n",
    "        val = a[row, col]\n",
    "\n",
    "        (vt,) = np.where(a[:row, col] >= val)\n",
    "        (vb,) = np.where(a[row + 1 :, col] >= val)\n",
    "        (vl,) = np.where(a[row, :col] >= val)\n",
    "        (vr,) = np.where(a[row, col + 1 :] >= val)\n",
    "\n",
    "        vt = vt.max() if len(vt) else 0\n",
    "        vb = vb.min() + row + 1 if len(vb) else a.shape[1] - 1\n",
    "        vl = vl.max() if len(vl) else 0\n",
    "        vr = vr.min() + col + 1 if len(vr) else a.shape[1] - 1\n",
    "\n",
    "        b[row, col] = (row - vt) * (vb - row) * (col - vl) * (vr - col)"
   ]
  },
  {
   "cell_type": "code",
   "execution_count": null,
   "metadata": {},
   "outputs": [],
   "source": [
    "np.max(b)"
   ]
  },
  {
   "cell_type": "code",
   "execution_count": null,
   "metadata": {},
   "outputs": [],
   "source": [
    "fig, ax = plt.subplots()\n",
    "ax.imshow(b, \"cividis\")\n",
    "ax.set_xticks([])\n",
    "ax.set_yticks([])\n",
    "ax.set_aspect(\"equal\")\n",
    "pass"
   ]
  },
  {
   "cell_type": "code",
   "execution_count": null,
   "metadata": {},
   "outputs": [],
   "source": []
  }
 ],
 "metadata": {
  "kernelspec": {
   "display_name": "Python 3.11.0 ('.venv': venv)",
   "language": "python",
   "name": "python3"
  },
  "language_info": {
   "codemirror_mode": {
    "name": "ipython",
    "version": 3
   },
   "file_extension": ".py",
   "mimetype": "text/x-python",
   "name": "python",
   "nbconvert_exporter": "python",
   "pygments_lexer": "ipython3",
   "version": "3.11.0"
  },
  "vscode": {
   "interpreter": {
    "hash": "2c35fe6d90945da0e37b01e5e162d4a6413fd9c72fc1c8e819f5998b7407f3af"
   }
  }
 },
 "nbformat": 4,
 "nbformat_minor": 2
}
