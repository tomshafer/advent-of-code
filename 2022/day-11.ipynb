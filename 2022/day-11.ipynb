{
 "cells": [
  {
   "cell_type": "raw",
   "metadata": {},
   "source": [
    "---\n",
    "title: \"Advent of Code 2022, Day 11\"\n",
    "format: html\n",
    "---"
   ]
  },
  {
   "cell_type": "code",
   "execution_count": null,
   "metadata": {},
   "outputs": [],
   "source": [
    "from math import prod\n",
    "import numpy as np\n"
   ]
  },
  {
   "attachments": {},
   "cell_type": "markdown",
   "metadata": {},
   "source": [
    "## Inputs\n",
    "\n",
    "##### Example"
   ]
  },
  {
   "cell_type": "code",
   "execution_count": null,
   "metadata": {},
   "outputs": [],
   "source": [
    "example = {}\n",
    "\n",
    "example[0] = {\n",
    "    \"items\": [79, 98],\n",
    "    \"op\": lambda old: old * 19,\n",
    "    \"test\": lambda x: 2 if x % 23 == 0 else 3,\n",
    "    \"inspected\": 0,\n",
    "}\n",
    "\n",
    "example[1] = {\n",
    "    \"items\": [54, 65, 75, 74],\n",
    "    \"op\": lambda old: old + 6,\n",
    "    \"test\": lambda x: 2 if x % 19 == 0 else 0,\n",
    "    \"inspected\": 0,\n",
    "}\n",
    "\n",
    "example[2] = {\n",
    "    \"items\": [79, 60, 97],\n",
    "    \"op\": lambda old: old * old,\n",
    "    \"test\": lambda x: 1 if x % 13 == 0 else 3,\n",
    "    \"inspected\": 0,\n",
    "}\n",
    "\n",
    "example[3] = {\n",
    "    \"items\": [74],\n",
    "    \"op\": lambda old: old + 3,\n",
    "    \"test\": lambda x: 0 if x % 17 == 0 else 1,\n",
    "    \"inspected\": 0,\n",
    "}\n"
   ]
  },
  {
   "attachments": {},
   "cell_type": "markdown",
   "metadata": {},
   "source": [
    "##### Input"
   ]
  },
  {
   "cell_type": "code",
   "execution_count": null,
   "metadata": {},
   "outputs": [],
   "source": [
    "inputs = {}\n",
    "\n",
    "inputs[0] = {\n",
    "    \"items\": [65, 78],\n",
    "    \"op\": lambda old: old * 3,\n",
    "    \"test\": lambda x: 2 if x % 5 == 0 else 3,\n",
    "    \"inspected\": 0\n",
    "}\n",
    "\n",
    "inputs[1] = {\n",
    "    \"items\": [54, 78, 86, 79, 73, 64, 85, 88],\n",
    "    \"op\": lambda old: old + 8,\n",
    "    \"test\": lambda x: 4 if x % 11 == 0 else 7,\n",
    "    \"inspected\": 0\n",
    "}\n",
    "\n",
    "inputs[2] = {\n",
    "    \"items\": [69, 97, 77, 88, 87],\n",
    "    \"op\": lambda old: old + 2,\n",
    "    \"test\": lambda x: 5 if x % 2 == 0 else 3,\n",
    "    \"inspected\": 0\n",
    "}\n",
    "\n",
    "inputs[3] = {\n",
    "    \"items\": [99],\n",
    "    \"op\": lambda old: old + 4,\n",
    "    \"test\": lambda x: 1 if x % 13 == 0 else 5,\n",
    "    \"inspected\": 0\n",
    "}\n",
    "\n",
    "inputs[4] = {\n",
    "    \"items\": [60, 57, 52],\n",
    "    \"op\": lambda old: old * 19,\n",
    "    \"test\": lambda x: 7 if x % 7 == 0 else 6,\n",
    "    \"inspected\": 0\n",
    "}\n",
    "\n",
    "inputs[5] = {\n",
    "    \"items\": [91, 82, 85, 73, 84, 53],\n",
    "    \"op\": lambda old: old + 5,\n",
    "    \"test\": lambda x: 4 if x % 3 == 0 else 1,\n",
    "    \"inspected\": 0\n",
    "}\n",
    "\n",
    "inputs[6] = {\n",
    "    \"items\": [88, 74, 68, 56],\n",
    "    \"op\": lambda old: old * old,\n",
    "    \"test\": lambda x: 0 if x % 17 == 0 else 2,\n",
    "    \"inspected\": 0\n",
    "}\n",
    "\n",
    "inputs[7] = {\n",
    "    \"items\": [54, 82, 72, 71, 53, 99, 67],\n",
    "    \"op\": lambda old: old + 1,\n",
    "    \"test\": lambda x: 6 if x % 19 == 0 else 0,\n",
    "    \"inspected\": 0\n",
    "}\n"
   ]
  },
  {
   "attachments": {},
   "cell_type": "markdown",
   "metadata": {},
   "source": [
    "## Part 1"
   ]
  },
  {
   "cell_type": "code",
   "execution_count": null,
   "metadata": {},
   "outputs": [],
   "source": [
    "# Example\n",
    "wrs = np.array([n for m in example.values() for n in m[\"items\"]])\n",
    "mks = np.array([m for m, j in example.items() for n in j[\"items\"]])\n",
    "ins = [0 for m in example]\n",
    "\n",
    "for _ in range(20):\n",
    "    wrs = wrs % (23 * 19 * 23 * 17)\n",
    "    for im in range(len(ins)):\n",
    "        ids = np.flatnonzero(mks == im)\n",
    "        wrs[ids] = example[im][\"op\"](wrs[ids]) // 3\n",
    "        mks[ids] = [example[im][\"test\"](x) for x in wrs[ids]]\n",
    "        ins[im] += len(ids)\n",
    "\n",
    "sorted(ins)[-2:], prod(sorted(ins)[-2:])\n"
   ]
  },
  {
   "cell_type": "code",
   "execution_count": null,
   "metadata": {},
   "outputs": [],
   "source": [
    "# Inputs\n",
    "wrs = np.array([n for m in inputs.values() for n in m[\"items\"]])\n",
    "mks = np.array([m for m, j in inputs.items() for n in j[\"items\"]])\n",
    "ins = [0 for m in inputs]\n",
    "\n",
    "for _ in range(20):\n",
    "    wrs = wrs % (2 * 3 * 5 * 7 * 11 * 13 * 17 * 19)\n",
    "    for im in range(len(ins)):\n",
    "        ids = np.flatnonzero(mks == im)\n",
    "        wrs[ids] = inputs[im][\"op\"](wrs[ids]) // 3\n",
    "        mks[ids] = [inputs[im][\"test\"](x) for x in wrs[ids]]\n",
    "        ins[im] += len(ids)\n",
    "\n",
    "sorted(ins)[-2:], prod(sorted(ins)[-2:])\n"
   ]
  },
  {
   "attachments": {},
   "cell_type": "markdown",
   "metadata": {},
   "source": [
    "## Part 2"
   ]
  },
  {
   "cell_type": "code",
   "execution_count": null,
   "metadata": {},
   "outputs": [],
   "source": [
    "# Example\n",
    "wrs = np.array([n for m in example.values() for n in m[\"items\"]])\n",
    "mks = np.array([m for m, j in example.items() for n in j[\"items\"]])\n",
    "ins = [0 for m in example]\n",
    "\n",
    "for _ in range(10_000):\n",
    "    wrs = wrs % (23 * 19 * 17 * 13)\n",
    "    for im in range(len(ins)):\n",
    "        ids = np.flatnonzero(mks == im)\n",
    "        wrs[ids] = example[im][\"op\"](wrs[ids])\n",
    "        mks[ids] = [example[im][\"test\"](x) for x in wrs[ids]]\n",
    "        ins[im] += len(ids)\n",
    "\n",
    "sorted(ins), prod(sorted(ins)[-2:])\n"
   ]
  },
  {
   "cell_type": "code",
   "execution_count": null,
   "metadata": {},
   "outputs": [],
   "source": [
    "# Inputs\n",
    "wrs = np.array([n for m in inputs.values() for n in m[\"items\"]])\n",
    "mks = np.array([m for m, j in inputs.items() for n in j[\"items\"]])\n",
    "ins = [0 for m in inputs]\n",
    "\n",
    "for _ in range(10_000):\n",
    "    wrs = wrs % (2 * 3 * 5 * 7 * 11 * 13 * 17 * 19)\n",
    "    for im in range(len(ins)):\n",
    "        ids = np.flatnonzero(mks == im)\n",
    "        wrs[ids] = inputs[im][\"op\"](wrs[ids])\n",
    "        mks[ids] = [inputs[im][\"test\"](x) for x in wrs[ids]]\n",
    "        ins[im] += len(ids)\n",
    "\n",
    "sorted(ins), prod(sorted(ins)[-2:])\n"
   ]
  },
  {
   "cell_type": "code",
   "execution_count": null,
   "metadata": {},
   "outputs": [],
   "source": []
  }
 ],
 "metadata": {
  "kernelspec": {
   "display_name": ".venv",
   "language": "python",
   "name": "python3"
  },
  "language_info": {
   "codemirror_mode": {
    "name": "ipython",
    "version": 3
   },
   "file_extension": ".py",
   "mimetype": "text/x-python",
   "name": "python",
   "nbconvert_exporter": "python",
   "pygments_lexer": "ipython3",
   "version": "3.11.0"
  },
  "vscode": {
   "interpreter": {
    "hash": "f333a04932960dc5cbc1d49fbcdcc51d2b6457f0d0213439f07f6d7ea3046ddb"
   }
  }
 },
 "nbformat": 4,
 "nbformat_minor": 2
}
