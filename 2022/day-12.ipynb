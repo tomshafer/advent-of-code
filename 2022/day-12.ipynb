{
 "cells": [
  {
   "cell_type": "raw",
   "metadata": {},
   "source": [
    "---\n",
    "title: \"Untitled\"\n",
    "format: html\n",
    "---"
   ]
  },
  {
   "cell_type": "code",
   "execution_count": null,
   "metadata": {},
   "outputs": [],
   "source": [
    "import logging\n",
    "log=logging.info\n",
    "\n",
    "import numpy as np"
   ]
  },
  {
   "cell_type": "code",
   "execution_count": null,
   "metadata": {},
   "outputs": [],
   "source": [
    "with open(\"inputs/day-12.txt\") as f:\n",
    "    inputs = np.array([[ord(char) for char in list(line.strip())] for line in f])\n",
    "    start = np.nonzero(inputs == ord(\"S\"))\n",
    "    end = np.nonzero(inputs == ord(\"E\"))\n",
    "    inputs[start] = ord(\"a\")\n",
    "    inputs[end] = ord(\"z\")\n"
   ]
  },
  {
   "attachments": {},
   "cell_type": "markdown",
   "metadata": {},
   "source": [
    "## Part 1"
   ]
  },
  {
   "cell_type": "code",
   "execution_count": null,
   "metadata": {},
   "outputs": [],
   "source": [
    "dist = {(ir, ic): np.Inf for ir, r in enumerate(inputs) for ic, _ in enumerate(r)}\n",
    "prev = {(ir, ic): None for ir, r in enumerate(inputs) for ic, _ in enumerate(r)}\n",
    "queue = [(ir, ic) for ir, r in enumerate(inputs) for ic, _ in enumerate(r)]\n",
    "dist[(start[0].item(), start[1].item())] = 0\n",
    "\n",
    "while queue:\n",
    "    # Get current\n",
    "    u = min(queue, key=lambda k: dist[k])\n",
    "    queue.remove(u)\n",
    "\n",
    "    # Find neighbors\n",
    "    neighbors = []\n",
    "    for s in ((0, 1), (0, -1), (1, 0), (-1, 0)):\n",
    "        x, y = (u[0] + s[0], u[1] + s[1])\n",
    "        if x < 0 or x >= inputs.shape[0] or y < 0 or y >= inputs.shape[1]:\n",
    "            continue\n",
    "        if inputs[(x, y)] - inputs[u] <= 1:\n",
    "            neighbors += [(x, y)]\n",
    "\n",
    "    # Compute\n",
    "    for v in neighbors:\n",
    "        if v not in queue:\n",
    "            continue\n",
    "        dist[v] = dist[u] + 1\n",
    "        prev[v] = u\n"
   ]
  },
  {
   "cell_type": "code",
   "execution_count": null,
   "metadata": {},
   "outputs": [],
   "source": [
    "dist[(end[0].item(), end[1].item())]"
   ]
  },
  {
   "attachments": {},
   "cell_type": "markdown",
   "metadata": {},
   "source": [
    "## Part 2"
   ]
  },
  {
   "cell_type": "code",
   "execution_count": null,
   "metadata": {},
   "outputs": [],
   "source": [
    "dist = {(ir, ic): np.Inf for ir, r in enumerate(inputs) for ic, _ in enumerate(r)}\n",
    "prev = {(ir, ic): None for ir, r in enumerate(inputs) for ic, _ in enumerate(r)}\n",
    "queue = [(ir, ic) for ir, r in enumerate(inputs) for ic, _ in enumerate(r)]\n",
    "dist[(end[0].item(), end[1].item())] = 0\n",
    "\n",
    "while queue:\n",
    "    # Get current\n",
    "    u = min(queue, key=lambda k: dist[k])\n",
    "    queue.remove(u)\n",
    "\n",
    "    # Find neighbors\n",
    "    neighbors = []\n",
    "    for s in ((0, 1), (0, -1), (1, 0), (-1, 0)):\n",
    "        x, y = (u[0] + s[0], u[1] + s[1])\n",
    "        if x < 0 or x >= inputs.shape[0] or y < 0 or y >= inputs.shape[1]:\n",
    "            continue\n",
    "        if inputs[(x, y)] - inputs[u] >= -1:\n",
    "            neighbors += [(x, y)]\n",
    "\n",
    "    # Compute\n",
    "    for v in neighbors:\n",
    "        if v not in queue:\n",
    "            continue\n",
    "        dist[v] = dist[u] + 1\n",
    "        prev[v] = u\n"
   ]
  },
  {
   "cell_type": "code",
   "execution_count": null,
   "metadata": {},
   "outputs": [],
   "source": [
    "min([d for (x,y),d in dist.items() if inputs[(x,y)]==ord(\"a\")])"
   ]
  },
  {
   "cell_type": "code",
   "execution_count": null,
   "metadata": {},
   "outputs": [],
   "source": []
  }
 ],
 "metadata": {
  "kernelspec": {
   "display_name": ".venv",
   "language": "python",
   "name": "python3"
  },
  "language_info": {
   "codemirror_mode": {
    "name": "ipython",
    "version": 3
   },
   "file_extension": ".py",
   "mimetype": "text/x-python",
   "name": "python",
   "nbconvert_exporter": "python",
   "pygments_lexer": "ipython3",
   "version": "3.11.0"
  },
  "vscode": {
   "interpreter": {
    "hash": "f333a04932960dc5cbc1d49fbcdcc51d2b6457f0d0213439f07f6d7ea3046ddb"
   }
  }
 },
 "nbformat": 4,
 "nbformat_minor": 2
}
