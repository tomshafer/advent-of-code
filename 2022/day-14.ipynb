{
 "cells": [
  {
   "cell_type": "raw",
   "metadata": {},
   "source": [
    "---\n",
    "title: \"Advent of Code, Day 14\"\n",
    "format: html\n",
    "---"
   ]
  },
  {
   "cell_type": "code",
   "execution_count": null,
   "metadata": {},
   "outputs": [],
   "source": [
    "from typing import Optional\n",
    "from numpy import sign\n",
    "from copy import deepcopy"
   ]
  },
  {
   "cell_type": "code",
   "execution_count": null,
   "metadata": {},
   "outputs": [],
   "source": [
    "coord = tuple[int,int]\n",
    "col = set[int]\n",
    "mat = dict[int, col]"
   ]
  },
  {
   "cell_type": "code",
   "execution_count": null,
   "metadata": {},
   "outputs": [],
   "source": [
    "def read(file: str) -> set[coord]:\n",
    "    \"\"\"Read in a set of (x,y) coordinates.\"\"\"\n",
    "    inputs = set()\n",
    "    with open(file) as f:\n",
    "        for line in f:\n",
    "            coords = line.strip().split(\" -> \")\n",
    "            for i, coord in enumerate(coords[:-1]):\n",
    "                a = tuple(map(int, coord.split(\",\")))\n",
    "                b = tuple(map(int, coords[i + 1].split(\",\")))\n",
    "                if a[0] != b[0]:\n",
    "                    r = range(a[0], b[0] + sign(b[0] - a[0]), sign(b[0] - a[0]))\n",
    "                    inputs.update([(x, a[1]) for x in r])\n",
    "                elif a[1] != b[1]:\n",
    "                    r = range(a[1], b[1] + sign(b[1] - a[1]), sign(b[1] - a[1]))\n",
    "                    inputs.update([(a[0], x) for x in r])\n",
    "    return inputs\n",
    "\n",
    "def set2dict(s: col) -> mat:\n",
    "    return {x: set(y for xp, y in s if xp == x) for x in set(x for x, _ in s)}"
   ]
  },
  {
   "cell_type": "code",
   "execution_count": null,
   "metadata": {},
   "outputs": [],
   "source": [
    "example = set2dict(read(\"inputs/day-14-example.txt\"))\n",
    "input = set2dict(read(\"inputs/day-14.txt\"))\n"
   ]
  },
  {
   "attachments": {},
   "cell_type": "markdown",
   "metadata": {},
   "source": [
    "## Part 1\n",
    "\n",
    "Simulate the falling sand."
   ]
  },
  {
   "cell_type": "code",
   "execution_count": null,
   "metadata": {},
   "outputs": [],
   "source": [
    "def simulate(x: int, y: int, input: mat, floor: Optional[int] = None) -> coord:\n",
    "    # Off the edge\n",
    "    if x not in input:\n",
    "        if floor is None:\n",
    "            return (-1, -1)\n",
    "        input[x] = set()\n",
    "\n",
    "    # Floor\n",
    "    if floor is not None and floor not in input[x]:\n",
    "        input[x].update({floor})\n",
    "\n",
    "    # Off the edge\n",
    "    if not any(z > y for z in input[x]):\n",
    "        return (-1, -1)\n",
    "\n",
    "    # Straight\n",
    "    yfall = min(z for z in input[x] if z > y) - 1\n",
    "\n",
    "    # Diagonal L\n",
    "    if x - 1 not in input:\n",
    "        if floor is None:\n",
    "            return (-1, -1)\n",
    "        input[x - 1] = {floor}\n",
    "\n",
    "    if yfall + 1 not in input[x - 1] | {floor}:\n",
    "        return simulate(x - 1, yfall + 1, input, floor)\n",
    "\n",
    "    # Diagonal R\n",
    "    if x + 1 not in input:\n",
    "        if floor is None:\n",
    "            return (-1, -1)\n",
    "        input[x + 1] = {floor}\n",
    "\n",
    "    if yfall + 1 not in input[x + 1] | {floor}:\n",
    "        return simulate(x + 1, yfall + 1, input, floor)\n",
    "    return (x, yfall)\n"
   ]
  },
  {
   "cell_type": "code",
   "execution_count": null,
   "metadata": {},
   "outputs": [],
   "source": [
    "def run_simulation(inp: mat, floor: bool = False, cap: int = 100_000) -> tuple[int, mat]:\n",
    "    inp = deepcopy(inp)\n",
    "    ifloor = max(y for s in inp.values() for y in s) + 2 if floor else None\n",
    "\n",
    "    n = 0\n",
    "    for _ in range(cap):\n",
    "        x, y = simulate(500, 0, inp, ifloor)\n",
    "        if (x, y) in [(-1, -1), (500, 0)]:\n",
    "            break\n",
    "        n += 1\n",
    "        inp[x].update({y})\n",
    "\n",
    "    # \"+ floor\" fixes a quick exit in case of floor\n",
    "    return n + floor, inp\n"
   ]
  },
  {
   "cell_type": "code",
   "execution_count": null,
   "metadata": {},
   "outputs": [],
   "source": [
    "pt1_ex = run_simulation(example)\n",
    "pt1_in = run_simulation(input)"
   ]
  },
  {
   "cell_type": "code",
   "execution_count": null,
   "metadata": {},
   "outputs": [],
   "source": [
    "pt1_in[0]"
   ]
  },
  {
   "attachments": {},
   "cell_type": "markdown",
   "metadata": {},
   "source": [
    "## Part 2\n",
    "\n",
    "Add a floor."
   ]
  },
  {
   "cell_type": "code",
   "execution_count": null,
   "metadata": {},
   "outputs": [],
   "source": [
    "pt2_ex = run_simulation(example, floor=True)\n",
    "pt2_in = run_simulation(input, floor=True)"
   ]
  },
  {
   "cell_type": "code",
   "execution_count": null,
   "metadata": {},
   "outputs": [],
   "source": [
    "pt2_in[0]"
   ]
  },
  {
   "cell_type": "code",
   "execution_count": null,
   "metadata": {},
   "outputs": [],
   "source": []
  }
 ],
 "metadata": {
  "kernelspec": {
   "display_name": ".venv",
   "language": "python",
   "name": "python3"
  },
  "language_info": {
   "codemirror_mode": {
    "name": "ipython",
    "version": 3
   },
   "file_extension": ".py",
   "mimetype": "text/x-python",
   "name": "python",
   "nbconvert_exporter": "python",
   "pygments_lexer": "ipython3",
   "version": "3.11.0"
  },
  "vscode": {
   "interpreter": {
    "hash": "f333a04932960dc5cbc1d49fbcdcc51d2b6457f0d0213439f07f6d7ea3046ddb"
   }
  }
 },
 "nbformat": 4,
 "nbformat_minor": 2
}
