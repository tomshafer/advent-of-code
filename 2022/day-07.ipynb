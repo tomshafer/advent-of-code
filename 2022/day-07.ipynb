{
 "cells": [
  {
   "cell_type": "raw",
   "metadata": {},
   "source": [
    "---\n",
    "title: \"Advent of Code 2022, Day 7\"\n",
    "format: html\n",
    "---"
   ]
  },
  {
   "cell_type": "code",
   "execution_count": null,
   "metadata": {},
   "outputs": [],
   "source": [
    "import pprint"
   ]
  },
  {
   "cell_type": "code",
   "execution_count": null,
   "metadata": {},
   "outputs": [],
   "source": [
    "with open(\"inputs/day-07.txt\") as f:\n",
    "    data = [l.strip() for l in f]"
   ]
  },
  {
   "cell_type": "code",
   "execution_count": null,
   "metadata": {},
   "outputs": [],
   "source": [
    "fs, pwd = {}, []\n",
    "for i, line in enumerate(data):\n",
    "    if line.startswith(\"$ cd\"):\n",
    "        dest = line.split()[-1]\n",
    "        if dest == \"..\":\n",
    "            pwd = pwd[:-1]\n",
    "        elif dest == \"/\":\n",
    "            pwd = [\"/\"]\n",
    "        else:\n",
    "            pwd += [dest]\n",
    "        \n",
    "        cur = fs\n",
    "        for k in pwd:\n",
    "            if k not in cur:\n",
    "                cur[k] = {}\n",
    "            cur = cur[k]\n",
    "        \n",
    "        continue\n",
    "    \n",
    "    if line.startswith(\"$ ls\"):\n",
    "        continue\n",
    "\n",
    "    if line.startswith(\"dir\"):\n",
    "        cur[line.split()[-1]] = {}\n",
    "        continue\n",
    "\n",
    "    s, n = line.split()\n",
    "    s = int(s)\n",
    "    cur[n] = s\n",
    "    \n"
   ]
  },
  {
   "cell_type": "markdown",
   "metadata": {},
   "source": [
    "## Part 1\n",
    "\n",
    "Find all directories having total size ≤ 100,000."
   ]
  },
  {
   "cell_type": "code",
   "execution_count": null,
   "metadata": {},
   "outputs": [],
   "source": [
    "# Walk the tree and count sizes\n",
    "def sizes(x):\n",
    "    global nn\n",
    "    n = 0\n",
    "    for k in x:\n",
    "        if isinstance(x[k], int):\n",
    "            n += x[k]\n",
    "        else:\n",
    "            n += sizes(x[k])\n",
    "    if n <= 100_000:\n",
    "        nn += n\n",
    "    return n"
   ]
  },
  {
   "cell_type": "code",
   "execution_count": null,
   "metadata": {},
   "outputs": [],
   "source": [
    "nn = 0\n",
    "sizes(fs);"
   ]
  },
  {
   "cell_type": "code",
   "execution_count": null,
   "metadata": {},
   "outputs": [],
   "source": [
    "nn"
   ]
  },
  {
   "cell_type": "markdown",
   "metadata": {},
   "source": [
    "## Part 2\n",
    "\n",
    "Find the smallest directory we can remove (at any level) to get our filesystem size under a tolerable limit."
   ]
  },
  {
   "cell_type": "code",
   "execution_count": null,
   "metadata": {},
   "outputs": [],
   "source": [
    "def sizes2(x):\n",
    "    global kk\n",
    "    n = 0\n",
    "    for k in x:\n",
    "        if isinstance(x[k], int):\n",
    "            n += x[k]\n",
    "        else:\n",
    "            z = sizes2(x[k])\n",
    "            if 70000000 - 47048086 + z >= 30000000:\n",
    "                kk[k]=z\n",
    "            n += z\n",
    "    return n\n",
    "\n",
    "kk = {}\n",
    "sizes2(fs);"
   ]
  },
  {
   "cell_type": "code",
   "execution_count": null,
   "metadata": {},
   "outputs": [],
   "source": [
    "min(kk, key=kk.get)"
   ]
  },
  {
   "cell_type": "code",
   "execution_count": null,
   "metadata": {},
   "outputs": [],
   "source": [
    "kk[min(kk, key=kk.get)]"
   ]
  },
  {
   "cell_type": "code",
   "execution_count": null,
   "metadata": {},
   "outputs": [],
   "source": []
  }
 ],
 "metadata": {
  "kernelspec": {
   "display_name": "Python 3.11.0 ('.venv': venv)",
   "language": "python",
   "name": "python3"
  },
  "language_info": {
   "codemirror_mode": {
    "name": "ipython",
    "version": 3
   },
   "file_extension": ".py",
   "mimetype": "text/x-python",
   "name": "python",
   "nbconvert_exporter": "python",
   "pygments_lexer": "ipython3",
   "version": "3.11.0"
  },
  "vscode": {
   "interpreter": {
    "hash": "f333a04932960dc5cbc1d49fbcdcc51d2b6457f0d0213439f07f6d7ea3046ddb"
   }
  }
 },
 "nbformat": 4,
 "nbformat_minor": 2
}
