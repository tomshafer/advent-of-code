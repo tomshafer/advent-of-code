{
 "cells": [
  {
   "cell_type": "raw",
   "metadata": {},
   "source": [
    "---\n",
    "title: \"Untitled\"\n",
    "format: html\n",
    "---"
   ]
  },
  {
   "cell_type": "code",
   "execution_count": 32,
   "metadata": {},
   "outputs": [],
   "source": [
    "import re\n",
    "from copy  import deepcopy"
   ]
  },
  {
   "cell_type": "code",
   "execution_count": 249,
   "metadata": {},
   "outputs": [],
   "source": [
    "def read(file:str):\n",
    "    data = {}\n",
    "    with open(file) as f:\n",
    "        for line in f:\n",
    "            p = line.strip().split()\n",
    "            data[p[1]] = [int(p[4].split(\"=\")[-1].strip(\";\")), [x.strip(\",\") for x in p[9:]]]\n",
    "    return data\n",
    "\n",
    "inputs = read(\"inputs/day-16-example.txt\")"
   ]
  },
  {
   "cell_type": "code",
   "execution_count": 260,
   "metadata": {},
   "outputs": [
    {
     "data": {
      "text/plain": [
       "{'AA': [0, ['DD', 'II', 'BB']],\n",
       " 'BB': [13, ['CC', 'AA']],\n",
       " 'CC': [2, ['DD', 'BB']],\n",
       " 'DD': [20, ['CC', 'AA', 'EE']],\n",
       " 'EE': [3, ['FF', 'DD']],\n",
       " 'FF': [0, ['EE', 'GG']],\n",
       " 'GG': [0, ['FF', 'HH']],\n",
       " 'HH': [22, ['GG']],\n",
       " 'II': [0, ['AA', 'JJ']],\n",
       " 'JJ': [21, ['II']]}"
      ]
     },
     "execution_count": 260,
     "metadata": {},
     "output_type": "execute_result"
    }
   ],
   "source": [
    "inputs"
   ]
  },
  {
   "attachments": {},
   "cell_type": "markdown",
   "metadata": {},
   "source": [
    "## PArt 1"
   ]
  },
  {
   "cell_type": "code",
   "execution_count": 279,
   "metadata": {},
   "outputs": [],
   "source": [
    "t = 30\n",
    "beams = [[0,[], [\"AA\"], inputs]]\n",
    "while t > 0:\n",
    "    new_beams = []\n",
    "    # Take all actions for each beam, keep the top N\n",
    "    for value, open, steps, data in beams:\n",
    "        cur = steps[0]\n",
    "        # Open\n",
    "        if data[cur][0] > 0:\n",
    "            nd = deepcopy(data)\n",
    "            nd[cur][0] = 0\n",
    "            new_beams += [[value + (t - 1) * data[cur][0], [(cur,30-t+1)]+open, [cur] + steps, nd]]\n",
    "        # Neighbors\n",
    "        for nn in data[cur][-1]:\n",
    "            new_beams += [[value, open, [nn] + steps, data]]\n",
    "    v0 = max(b[0] for b in beams)\n",
    "    beams = sorted(new_beams, key=lambda x: x[0], reverse=True)[:500]\n",
    "    v1 = max(b[0] for b in beams)\n",
    "    # print(v1, v0, v1 - v0)\n",
    "    t -= 1\n"
   ]
  },
  {
   "cell_type": "code",
   "execution_count": 280,
   "metadata": {},
   "outputs": [
    {
     "data": {
      "text/plain": [
       "[1651, [('CC', 24), ('EE', 21), ('HH', 17), ('JJ', 9), ('BB', 5), ('DD', 2)]]"
      ]
     },
     "execution_count": 280,
     "metadata": {},
     "output_type": "execute_result"
    }
   ],
   "source": [
    "beams[0][:2]"
   ]
  },
  {
   "cell_type": "code",
   "execution_count": 92,
   "metadata": {},
   "outputs": [
    {
     "data": {
      "text/plain": [
       "[[0, 'AA', [0, ['DD', 'II', 'BB']]]]"
      ]
     },
     "execution_count": 92,
     "metadata": {},
     "output_type": "execute_result"
    }
   ],
   "source": [
    "beams"
   ]
  },
  {
   "attachments": {},
   "cell_type": "markdown",
   "metadata": {},
   "source": [
    "## Part 2"
   ]
  },
  {
   "cell_type": "code",
   "execution_count": null,
   "metadata": {},
   "outputs": [],
   "source": [
    "t = 26\n",
    "beams = [[0, [[], []], [[\"AA\"], [\"AA\"]], inputs]]\n",
    "while t > 0:\n",
    "    new_beams = []\n",
    "    # Take all actions for each beam, keep the top N\n",
    "    for value, (oa, ob), (sa, sb), data in beams:\n",
    "        ca, cb = sa[0], sb[0]\n",
    "\n",
    "        # Both open\n",
    "\n",
    "        # Both move\n",
    "        for na in data[ca][-1]:\n",
    "            for nb in data[ca][-1]:\n",
    "                new_beams += [[value, open, [nn] + steps, data]]\n",
    "\n",
    "\n",
    "\n",
    "    #     cur = steps[0]\n",
    "    #     # Open\n",
    "    #     if data[cur][0] > 0:\n",
    "    #         nd = deepcopy(data)\n",
    "    #         nd[cur][0] = 0\n",
    "    #         new_beams += [\n",
    "    #             [\n",
    "    #                 value + (t - 1) * data[cur][0],\n",
    "    #                 [(cur, 30 - t + 1)] + open,\n",
    "    #                 [cur] + steps,\n",
    "    #                 nd,\n",
    "    #             ]\n",
    "    #         ]\n",
    "    #     # Neighbors\n",
    "    #     for nn in data[cur][-1]:\n",
    "    #         new_beams += [[value, open, [nn] + steps, data]]\n",
    "    # v0 = max(b[0] for b in beams)\n",
    "    # beams = sorted(new_beams, key=lambda x: x[0], reverse=True)[:500]\n",
    "    # v1 = max(b[0] for b in beams)\n",
    "    # # print(v1, v0, v1 - v0)\n",
    "    t -= 1\n"
   ]
  },
  {
   "cell_type": "code",
   "execution_count": 251,
   "metadata": {},
   "outputs": [],
   "source": [
    "t = 26\n",
    "beams = [[0, [[\"AA\"], [\"AA\"]], inputs]]\n",
    "while t > 0:\n",
    "    new_beams = []\n",
    "    # Take all actions for each beam, keep the top N\n",
    "    for value, [sa, sb], data in beams:\n",
    "        if all(d[0] == 0 for d in data.values()):\n",
    "            new_beams += [[value, [sa, sb], data]]\n",
    "            continue\n",
    "        ca, cb = sa[0], sb[0]\n",
    "\n",
    "        # Both open\n",
    "        na = deepcopy(data)\n",
    "        v = (t - 1) * na[ca][0]\n",
    "        na[ca][0] = 0\n",
    "        v += (t - 1) * na[cb][0]\n",
    "        na[cb][0] = 0\n",
    "        new_beams += [[v, [[ca] + sa, [cb] + sb], na]]\n",
    "\n",
    "        # open, move\n",
    "        na = deepcopy(data)\n",
    "        na[ca][0] = 0\n",
    "        for nn in data[cb][-1]:\n",
    "            new_beams += [[value + (t - 1) * data[ca][0], [[ca] + sa, [nn] + sb], na]]\n",
    "        nb = deepcopy(data)\n",
    "        nb[cb][0] = 0\n",
    "        for nn in data[ca][-1]:\n",
    "            new_beams += [[value + (t - 1) * data[cb][0], [[nn] + sa, [cb] + sb], nb]]\n",
    "\n",
    "        # move, move\n",
    "        for na in data[ca][-1]:\n",
    "            for nb in data[cb][-1]:\n",
    "                new_beams += [[value, [[na] + sa, [nb] + sb], data]]\n",
    "    beams = sorted(new_beams, key=lambda x: x[0], reverse=True)[:1000]\n",
    "    # if t >= 25:\n",
    "    #     print([(b[0], b[1]) for b in beams[:10]])\n",
    "    t -= 1\n"
   ]
  },
  {
   "cell_type": "code",
   "execution_count": 252,
   "metadata": {},
   "outputs": [
    {
     "data": {
      "text/plain": [
       "1706"
      ]
     },
     "execution_count": 252,
     "metadata": {},
     "output_type": "execute_result"
    }
   ],
   "source": [
    "# 1000: 1890, 2048: 2085, 4096: 2085, 10_000: 2085\n",
    "beams[0][0]"
   ]
  },
  {
   "cell_type": "code",
   "execution_count": null,
   "metadata": {},
   "outputs": [],
   "source": []
  },
  {
   "cell_type": "code",
   "execution_count": null,
   "metadata": {},
   "outputs": [],
   "source": []
  },
  {
   "cell_type": "code",
   "execution_count": null,
   "metadata": {},
   "outputs": [],
   "source": []
  },
  {
   "cell_type": "code",
   "execution_count": 54,
   "metadata": {},
   "outputs": [
    {
     "ename": "SyntaxError",
     "evalue": "incomplete input (1401637043.py, line 6)",
     "output_type": "error",
     "traceback": [
      "\u001b[0;36m  Cell \u001b[0;32mIn[54], line 6\u001b[0;36m\u001b[0m\n\u001b[0;31m    \u001b[0m\n\u001b[0m    ^\u001b[0m\n\u001b[0;31mSyntaxError\u001b[0m\u001b[0;31m:\u001b[0m incomplete input\n"
     ]
    }
   ],
   "source": [
    "bw = 5\n",
    "paths = {}\n",
    "t = 30\n",
    "cur = \"A\"\n",
    "while t > 0:\n",
    "    \n"
   ]
  },
  {
   "cell_type": "code",
   "execution_count": null,
   "metadata": {},
   "outputs": [],
   "source": []
  },
  {
   "cell_type": "code",
   "execution_count": null,
   "metadata": {},
   "outputs": [],
   "source": []
  },
  {
   "cell_type": "code",
   "execution_count": 34,
   "metadata": {},
   "outputs": [
    {
     "name": "stdout",
     "output_type": "stream",
     "text": [
      "check 0 {'DD': 560, 'II': 0, 'BB': 364}\n",
      "move DD\n",
      "check 560 {'CC': 54, 'AA': 0, 'EE': 81}\n",
      "open DD 560\n",
      "check 0 {'CC': 52, 'AA': 0, 'EE': 78}\n",
      "move EE\n",
      "check 78 {'FF': 0, 'DD': 0}\n",
      "open EE 78\n",
      "check 0 {'FF': 0, 'DD': 0}\n",
      "move FF\n",
      "check 0 {'EE': 0, 'GG': 0}\n",
      "move EE\n",
      "check 0 {'FF': 0, 'DD': 0}\n",
      "move FF\n",
      "check 0 {'EE': 0, 'GG': 0}\n",
      "move EE\n",
      "check 0 {'FF': 0, 'DD': 0}\n",
      "move FF\n",
      "check 0 {'EE': 0, 'GG': 0}\n",
      "move EE\n",
      "check 0 {'FF': 0, 'DD': 0}\n",
      "move FF\n",
      "check 0 {'EE': 0, 'GG': 0}\n",
      "move EE\n",
      "check 0 {'FF': 0, 'DD': 0}\n",
      "move FF\n",
      "check 0 {'EE': 0, 'GG': 0}\n",
      "move EE\n",
      "check 0 {'FF': 0, 'DD': 0}\n",
      "move FF\n",
      "check 0 {'EE': 0, 'GG': 0}\n",
      "move EE\n",
      "check 0 {'FF': 0, 'DD': 0}\n",
      "move FF\n",
      "check 0 {'EE': 0, 'GG': 0}\n",
      "move EE\n",
      "check 0 {'FF': 0, 'DD': 0}\n",
      "move FF\n",
      "check 0 {'EE': 0, 'GG': 0}\n",
      "move EE\n",
      "check 0 {'FF': 0, 'DD': 0}\n",
      "move FF\n",
      "check 0 {'EE': 0, 'GG': 0}\n",
      "move EE\n",
      "check 0 {'FF': 0, 'DD': 0}\n",
      "move FF\n",
      "check 0 {'EE': 0, 'GG': 0}\n",
      "move EE\n",
      "check 0 {'FF': 0, 'DD': 0}\n",
      "move FF\n",
      "check 0 {'EE': 0, 'GG': 0}\n",
      "move EE\n",
      "check 0 {'FF': 0, 'DD': 0}\n",
      "move FF\n",
      "check 0 {'EE': 0, 'GG': 0}\n",
      "move EE\n",
      "check 0 {'FF': 0, 'DD': 0}\n",
      "move FF\n",
      "check 0 {'EE': 0, 'GG': 0}\n",
      "move EE\n"
     ]
    }
   ],
   "source": [
    "data = deepcopy(inputs)\n",
    "cur = \"AA\"\n",
    "t = 30\n",
    "reward = 0\n",
    "while t > 0:\n",
    "    # Greedy\n",
    "    open_reward = data[cur][0]*(t-1)\n",
    "    move_rewards = {n: data[n][0]*(t-2) for n in data[cur][-1]}\n",
    "    print(\"check\", open_reward, move_rewards)\n",
    "    if open_reward > max(move_rewards.values()):\n",
    "        print(\"open\", cur, open_reward)\n",
    "        reward += open_reward\n",
    "        data[cur][0] = 0\n",
    "    else:\n",
    "        cur = max(move_rewards, key=lambda k: move_rewards[k])\n",
    "        print(\"move\", cur)\n",
    "    t -= 1\n"
   ]
  },
  {
   "cell_type": "code",
   "execution_count": 35,
   "metadata": {},
   "outputs": [
    {
     "data": {
      "text/plain": [
       "638"
      ]
     },
     "execution_count": 35,
     "metadata": {},
     "output_type": "execute_result"
    }
   ],
   "source": [
    "reward"
   ]
  },
  {
   "cell_type": "code",
   "execution_count": null,
   "metadata": {},
   "outputs": [],
   "source": []
  }
 ],
 "metadata": {
  "kernelspec": {
   "display_name": ".venv",
   "language": "python",
   "name": "python3"
  },
  "language_info": {
   "codemirror_mode": {
    "name": "ipython",
    "version": 3
   },
   "file_extension": ".py",
   "mimetype": "text/x-python",
   "name": "python",
   "nbconvert_exporter": "python",
   "pygments_lexer": "ipython3",
   "version": "3.11.0"
  },
  "orig_nbformat": 4,
  "vscode": {
   "interpreter": {
    "hash": "f333a04932960dc5cbc1d49fbcdcc51d2b6457f0d0213439f07f6d7ea3046ddb"
   }
  }
 },
 "nbformat": 4,
 "nbformat_minor": 2
}
