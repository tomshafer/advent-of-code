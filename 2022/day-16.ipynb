{
 "cells": [
  {
   "cell_type": "raw",
   "metadata": {},
   "source": [
    "---\n",
    "title: \"Advent ofCode, Day 16\"\n",
    "format: html\n",
    "---"
   ]
  },
  {
   "cell_type": "code",
   "execution_count": null,
   "metadata": {},
   "outputs": [],
   "source": [
    "import re\n",
    "from copy import deepcopy\n"
   ]
  },
  {
   "cell_type": "code",
   "execution_count": null,
   "metadata": {},
   "outputs": [],
   "source": [
    "ifmt = dict[int, list[int|list[int]]]\n",
    "\n",
    "def read(file: str) -> ifmt:\n",
    "    data = {}\n",
    "    with open(file) as f:\n",
    "        for line in f:\n",
    "            p = line.strip().split()            \n",
    "            loc = p[1]\n",
    "            flow = int(p[4].split(\"=\")[-1].strip(\";\"))\n",
    "            neighbors = [x.strip(\",\") for x in p[9:]]\n",
    "\n",
    "            data[loc] = [flow, neighbors]\n",
    "    return data\n",
    "\n",
    "\n",
    "example = read(\"inputs/day-16-example.txt\")\n",
    "inputs = read(\"inputs/day-16.txt\")\n"
   ]
  },
  {
   "attachments": {},
   "cell_type": "markdown",
   "metadata": {},
   "source": [
    "## Part 1\n",
    "\n",
    "Use beam search for 1 person and 30 steps.\n",
    "Iterate to find a large enough beam."
   ]
  },
  {
   "cell_type": "code",
   "execution_count": null,
   "metadata": {},
   "outputs": [],
   "source": [
    "def part1(input_data, beamsize: int = 1000):\n",
    "    t = 30\n",
    "    beams = [[0, [], [\"AA\"], input_data]]\n",
    "    while t > 0:\n",
    "        new_beams = []\n",
    "        # Take all actions for each beam, keep the top N\n",
    "        for value, open, steps, data in beams:\n",
    "            cur = steps[0]\n",
    "            # Open\n",
    "            if data[cur][0] > 0:\n",
    "                nd = deepcopy(data)\n",
    "                nd[cur][0] = 0\n",
    "                new_beams += [\n",
    "                    [\n",
    "                        value + (t - 1) * data[cur][0],\n",
    "                        [(cur, 30 - t + 1)] + open,\n",
    "                        [cur] + steps,\n",
    "                        nd,\n",
    "                    ]\n",
    "                ]\n",
    "            # Neighbors\n",
    "            for nn in data[cur][-1]:\n",
    "                new_beams += [[value, open, [nn] + steps, data]]\n",
    "        v0 = max(b[0] for b in beams)\n",
    "        beams = sorted(new_beams, key=lambda x: x[0], reverse=True)[:beamsize]\n",
    "        v1 = max(b[0] for b in beams)\n",
    "        # print(v1, v0, v1 - v0)\n",
    "        t -= 1\n",
    "    return beams\n"
   ]
  },
  {
   "cell_type": "code",
   "execution_count": null,
   "metadata": {},
   "outputs": [],
   "source": [
    "part1(example, 1000)[0][0]\n"
   ]
  },
  {
   "cell_type": "code",
   "execution_count": null,
   "metadata": {},
   "outputs": [],
   "source": [
    "part1(inputs, 1000)[0][0]\n"
   ]
  },
  {
   "attachments": {},
   "cell_type": "markdown",
   "metadata": {},
   "source": [
    "## Part 2\n",
    "\n",
    "Cooperate with elephants!"
   ]
  },
  {
   "cell_type": "code",
   "execution_count": null,
   "metadata": {},
   "outputs": [],
   "source": [
    "ofmt = list[int | list[int] | ifmt]\n",
    "\n",
    "\n",
    "def part2(input_data: ifmt, beamsize: int = 1000) -> list[ofmt]:\n",
    "    t = 26\n",
    "    beams = [[0, [[], []], [[\"AA\"], [\"AA\"]], input_data]]\n",
    "    while t > 0:\n",
    "        new_beams = []\n",
    "        # Take all actions for each beam, keep the top N\n",
    "        for value, (oa, ob), (sa, sb), data in beams:\n",
    "            ca, cb = sa[0], sb[0]\n",
    "\n",
    "            # Both open\n",
    "            if data[ca][0] > 0 or data[cb][0] > 0:\n",
    "                odata = deepcopy(data)\n",
    "                v = 0\n",
    "                if odata[ca][0] > 0:\n",
    "                    v += odata[ca][0] * (t - 1)\n",
    "                    odata[ca][0] = 0\n",
    "                    oa = [ca] + oa\n",
    "                if odata[cb][0] > 0:\n",
    "                    v += odata[cb][0] * (t - 1)\n",
    "                    odata[cb][0] = 0\n",
    "                    ob = [cb] + ob\n",
    "                new_beams += [[value + v, [oa, ob], [[ca] + sa, [cb] + sb], odata]]\n",
    "\n",
    "            # One and one\n",
    "            if data[ca][0] > 0:\n",
    "                odata = deepcopy(data)\n",
    "                v = odata[ca][0] * (t - 1)\n",
    "                odata[ca][0] = 0\n",
    "                oa = [ca] + oa\n",
    "                for nb in data[cb][-1]:\n",
    "                    new_beams += [[value + v, [oa, ob], [[ca] + sa, [nb] + sb], odata]]\n",
    "\n",
    "            if data[cb][0] > 0:\n",
    "                odata = deepcopy(data)\n",
    "                v = odata[cb][0] * (t - 1)\n",
    "                odata[cb][0] = 0\n",
    "                oa = [cb] + ob\n",
    "                for na in data[ca][-1]:\n",
    "                    new_beams += [[value + v, [oa, ob], [[na] + sa, [cb] + sb], odata]]\n",
    "\n",
    "            # Both move\n",
    "            for na in data[ca][-1]:\n",
    "                for nb in data[cb][-1]:\n",
    "                    new_beams += [[value, [oa, ob], [[na] + sa, [nb] + sb], data]]\n",
    "\n",
    "        beams = sorted(new_beams, key=lambda x: x[0], reverse=True)[:beamsize]\n",
    "        t -= 1\n",
    "\n",
    "    return beams\n"
   ]
  },
  {
   "cell_type": "code",
   "execution_count": null,
   "metadata": {},
   "outputs": [],
   "source": [
    "part2(example, beamsize=5000)[0][0]"
   ]
  },
  {
   "cell_type": "code",
   "execution_count": null,
   "metadata": {},
   "outputs": [],
   "source": [
    "part2(inputs, beamsize=5000)[0][0]"
   ]
  },
  {
   "cell_type": "code",
   "execution_count": null,
   "metadata": {},
   "outputs": [],
   "source": []
  }
 ],
 "metadata": {
  "kernelspec": {
   "display_name": ".venv",
   "language": "python",
   "name": "python3"
  },
  "language_info": {
   "codemirror_mode": {
    "name": "ipython",
    "version": 3
   },
   "file_extension": ".py",
   "mimetype": "text/x-python",
   "name": "python",
   "nbconvert_exporter": "python",
   "pygments_lexer": "ipython3",
   "version": "3.11.0"
  },
  "vscode": {
   "interpreter": {
    "hash": "2c35fe6d90945da0e37b01e5e162d4a6413fd9c72fc1c8e819f5998b7407f3af"
   }
  }
 },
 "nbformat": 4,
 "nbformat_minor": 2
}
